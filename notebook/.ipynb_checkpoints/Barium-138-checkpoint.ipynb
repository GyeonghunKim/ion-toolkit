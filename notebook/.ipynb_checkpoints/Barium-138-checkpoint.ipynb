{
 "cells": [
  {
   "cell_type": "code",
   "execution_count": 1,
   "id": "5bae4feb-395f-483a-b285-0be6d2825bf5",
   "metadata": {},
   "outputs": [],
   "source": [
    "%load_ext autoreload\n",
    "%autoreload 2"
   ]
  },
  {
   "cell_type": "code",
   "execution_count": 15,
   "id": "2a54874b-6d66-412e-bacc-7ba7a5358528",
   "metadata": {},
   "outputs": [],
   "source": [
    "import numpy as np\n",
    "from ion_toolkit import Ion\n",
    "from ion_toolkit.laser import Laser, Polarization\n",
    "from ion_toolkit.experiment import Experiment\n",
    "from ion_toolkit.units import Units, Constants\n",
    "from ion_toolkit.utils import get_resonant_frequency"
   ]
  },
  {
   "cell_type": "code",
   "execution_count": 3,
   "id": "6bfff614-0203-4628-a68c-16c9c8a9c168",
   "metadata": {},
   "outputs": [],
   "source": [
    "ion = Ion(\"Ba\", 138)"
   ]
  },
  {
   "cell_type": "code",
   "execution_count": 4,
   "id": "9b7a1397-37a1-4902-8f68-381dad10f8a9",
   "metadata": {},
   "outputs": [
    {
     "data": {
      "text/plain": [
       "[FineStructure(energy=0.0 THz, n=6, I=0, L=0, J=0.5),\n",
       " FineStructure(energy=607.4263 THz, n=6, I=0, L=1, J=0.5),\n",
       " FineStructure(energy=658.1165 THz, n=6, I=0, L=1, J=1.5),\n",
       " FineStructure(energy=146.1144 THz, n=5, I=0, L=2, J=1.5),\n",
       " FineStructure(energy=170.1264 THz, n=5, I=0, L=2, J=2.5)]"
      ]
     },
     "execution_count": 4,
     "metadata": {},
     "output_type": "execute_result"
    }
   ],
   "source": [
    "ion.energy_levels"
   ]
  },
  {
   "cell_type": "code",
   "execution_count": 36,
   "id": "a2607d06-925a-430e-9b39-dc375377a59c",
   "metadata": {},
   "outputs": [],
   "source": [
    "ion.apply_magnetic_field(5 * Units.T)"
   ]
  },
  {
   "cell_type": "code",
   "execution_count": 38,
   "id": "674787e6-99b7-4553-aaf3-cc704be37ef5",
   "metadata": {},
   "outputs": [],
   "source": [
    "laser_493 = Laser(\n",
    "    get_resonant_frequency(ion.energy_levels[0], ion.energy_levels[1]),\n",
    "    25500, \n",
    "    10 * Units.kHz, \n",
    "    Polarization(np.array([1, 0, 0]), 1, 0)\n",
    ")"
   ]
  },
  {
   "cell_type": "code",
   "execution_count": 39,
   "id": "d320f40a-314e-42e4-921c-8ae9b22a5c2e",
   "metadata": {},
   "outputs": [],
   "source": [
    "laser_650 = Laser(\n",
    "    get_resonant_frequency(ion.energy_levels[1], ion.energy_levels[3]),\n",
    "    25500, \n",
    "    10 * Units.kHz, \n",
    "    Polarization(np.array([1, 0, 0]), 1, 0)\n",
    ")"
   ]
  },
  {
   "cell_type": "code",
   "execution_count": 40,
   "id": "6054766f-e4ca-4b77-9cea-26134512ebf0",
   "metadata": {},
   "outputs": [],
   "source": [
    "experiment = Experiment(ion, 10 * Units.T)"
   ]
  },
  {
   "cell_type": "code",
   "execution_count": 41,
   "id": "f830e2de-4e5c-46ad-a94e-b3e81916340e",
   "metadata": {},
   "outputs": [],
   "source": [
    "experiment.add_laser(\n",
    "    laser_493, \n",
    "    [\n",
    "        (ion.energy_levels[0], ion.energy_levels[1])\n",
    "    ]\n",
    ")"
   ]
  },
  {
   "cell_type": "code",
   "execution_count": 42,
   "id": "2ab0f9d1-8c23-4ceb-8978-b088a657281b",
   "metadata": {},
   "outputs": [],
   "source": [
    "experiment.add_laser(\n",
    "    laser_650, \n",
    "    [\n",
    "        (ion.energy_levels[1], ion.energy_levels[3])\n",
    "    ]\n",
    ")"
   ]
  },
  {
   "cell_type": "code",
   "execution_count": 43,
   "id": "da1fd59e-574d-4b94-861f-33ffba344f05",
   "metadata": {},
   "outputs": [
    {
     "name": "stdout",
     "output_type": "stream",
     "text": [
      "From: FineStructureZeemanLevel(energy=607.3796458502479 THz, n=6, I=0, L=1, J=0.5, m_J=-0.5)\n",
      "To: FineStructureZeemanLevel(energy=-0.13996244925632675 THz, n=6, I=0, L=0, J=0.5, m_J=-0.5)\n",
      "(474037498.6438681+0j)\n",
      "From: FineStructureZeemanLevel(energy=607.4729541497521 THz, n=6, I=0, L=1, J=0.5, m_J=0.5)\n",
      "To: FineStructureZeemanLevel(energy=0.13996244925632675 THz, n=6, I=0, L=0, J=0.5, m_J=0.5)\n",
      "(-474037498.6438681+0j)\n",
      "From: FineStructureZeemanLevel(energy=607.3796458502479 THz, n=6, I=0, L=1, J=0.5, m_J=-0.5)\n",
      "To: FineStructureZeemanLevel(energy=146.05841502029747 THz, n=5, I=0, L=2, J=1.5, m_J=-0.5)\n",
      "(433384081.504051+0j)\n",
      "From: FineStructureZeemanLevel(energy=607.4729541497521 THz, n=6, I=0, L=1, J=0.5, m_J=0.5)\n",
      "To: FineStructureZeemanLevel(energy=146.17038497970253 THz, n=5, I=0, L=2, J=1.5, m_J=0.5)\n",
      "(433384081.504051-0j)\n"
     ]
    }
   ],
   "source": [
    "for t in experiment.transitions:\n",
    "    if np.abs(t.rabi_frequency) > 100:\n",
    "        print(f\"From: {t.upper_level}\")\n",
    "        print(f\"To: {t.lower_level}\")\n",
    "        print(t.rabi_frequency)"
   ]
  },
  {
   "cell_type": "code",
   "execution_count": null,
   "id": "c8194404-3e27-4792-b774-847f63b7567b",
   "metadata": {},
   "outputs": [],
   "source": []
  }
 ],
 "metadata": {
  "kernelspec": {
   "display_name": "cavity",
   "language": "python",
   "name": "cavity"
  },
  "language_info": {
   "codemirror_mode": {
    "name": "ipython",
    "version": 3
   },
   "file_extension": ".py",
   "mimetype": "text/x-python",
   "name": "python",
   "nbconvert_exporter": "python",
   "pygments_lexer": "ipython3",
   "version": "3.8.18"
  }
 },
 "nbformat": 4,
 "nbformat_minor": 5
}
