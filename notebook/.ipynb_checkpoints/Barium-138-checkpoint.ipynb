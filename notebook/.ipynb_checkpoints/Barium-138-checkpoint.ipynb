{
 "cells": [
  {
   "cell_type": "code",
   "execution_count": 1,
   "id": "5bae4feb-395f-483a-b285-0be6d2825bf5",
   "metadata": {},
   "outputs": [],
   "source": [
    "%load_ext autoreload\n",
    "%autoreload 2"
   ]
  },
  {
   "cell_type": "code",
   "execution_count": 2,
   "id": "2a54874b-6d66-412e-bacc-7ba7a5358528",
   "metadata": {},
   "outputs": [],
   "source": [
    "from ion_toolkit import Ion"
   ]
  },
  {
   "cell_type": "code",
   "execution_count": 7,
   "id": "6bfff614-0203-4628-a68c-16c9c8a9c168",
   "metadata": {},
   "outputs": [
    {
     "ename": "TypeError",
     "evalue": "unsupported operand type(s) for +: 'SingletonRegistry' and 'int'",
     "output_type": "error",
     "traceback": [
      "\u001b[31m---------------------------------------------------------------------------\u001b[39m",
      "\u001b[31mTypeError\u001b[39m                                 Traceback (most recent call last)",
      "\u001b[36mCell\u001b[39m\u001b[36m \u001b[39m\u001b[32mIn[7]\u001b[39m\u001b[32m, line 1\u001b[39m\n\u001b[32m----> \u001b[39m\u001b[32m1\u001b[39m ion = \u001b[43mIon\u001b[49m\u001b[43m(\u001b[49m\u001b[33;43m\"\u001b[39;49m\u001b[33;43mBa\u001b[39;49m\u001b[33;43m\"\u001b[39;49m\u001b[43m,\u001b[49m\u001b[43m \u001b[49m\u001b[32;43m138\u001b[39;49m\u001b[43m)\u001b[49m\n",
      "\u001b[36mFile \u001b[39m\u001b[32m<string>:9\u001b[39m, in \u001b[36m__init__\u001b[39m\u001b[34m(self, species, mass_number)\u001b[39m\n",
      "\u001b[36mFile \u001b[39m\u001b[32m<string>:5\u001b[39m, in \u001b[36m_load_energy_levels\u001b[39m\u001b[34m(self)\u001b[39m\n",
      "\u001b[36mFile \u001b[39m\u001b[32mc:\\users\\gk141\\onedrive - duke university\\documents\\libraires\\ion-toolkit\\ion_toolkit\\energy_level.py:41\u001b[39m, in \u001b[36mFineStructure.__init__\u001b[39m\u001b[34m(self, energy, n, I, L, J)\u001b[39m\n\u001b[32m     39\u001b[39m \u001b[38;5;28msuper\u001b[39m().\u001b[34m__init__\u001b[39m(energy, n, I, L, J)\n\u001b[32m     40\u001b[39m \u001b[38;5;28mself\u001b[39m.n_zeeman_levels = \u001b[32m2\u001b[39m*J + \u001b[32m1\u001b[39m\n\u001b[32m---> \u001b[39m\u001b[32m41\u001b[39m \u001b[38;5;28mself\u001b[39m.lande_g_factor = \u001b[32m1\u001b[39m + (J*(J+\u001b[32m1\u001b[39m) - L*(L+\u001b[32m1\u001b[39m) + S*(\u001b[43mS\u001b[49m\u001b[43m+\u001b[49m\u001b[32;43m1\u001b[39;49m))/(\u001b[32m2\u001b[39m*J*(J+\u001b[32m1\u001b[39m)) \n\u001b[32m     42\u001b[39m \u001b[38;5;28mself\u001b[39m.zeeman_levels = [FineStructureZeemanLevel(\u001b[38;5;28mself\u001b[39m.energy, \u001b[38;5;28mself\u001b[39m.n, \u001b[38;5;28mself\u001b[39m.I, \u001b[38;5;28mself\u001b[39m.L, \u001b[38;5;28mself\u001b[39m.J, m_J) \u001b[38;5;28;01mfor\u001b[39;00m m_J \u001b[38;5;129;01min\u001b[39;00m \u001b[38;5;28mrange\u001b[39m(-J, J+\u001b[32m1\u001b[39m)]\n",
      "\u001b[31mTypeError\u001b[39m: unsupported operand type(s) for +: 'SingletonRegistry' and 'int'"
     ]
    }
   ],
   "source": [
    "ion = Ion(\"Ba\", 138)\n"
   ]
  },
  {
   "cell_type": "code",
   "execution_count": 4,
   "id": "f9c05344-af2a-4035-b9db-a572a8f06577",
   "metadata": {},
   "outputs": [
    {
     "data": {
      "text/plain": [
       "{'species': 'Ba',\n",
       " 'mass_number': 138,\n",
       " 'Z': 56,\n",
       " 'I': 0,\n",
       " 'A': 138,\n",
       " 'energy_levels': [{'energy_Hz': 0.0,\n",
       "   'order': 'FineStructure',\n",
       "   'n': 6,\n",
       "   'L': 'S',\n",
       "   'J': 0.5,\n",
       "   'line_width_2_pi_Hz': 0.0},\n",
       "  {'energy_Hz': 607426300000000.0,\n",
       "   'order': 'FineStructure',\n",
       "   'n': 6,\n",
       "   'L': 'P',\n",
       "   'J': 0.5,\n",
       "   'line_width_2_pi_Hz': 19890000.0},\n",
       "  {'energy_Hz': 658116500000000.0,\n",
       "   'order': 'FineStructure',\n",
       "   'n': 6,\n",
       "   'L': 'P',\n",
       "   'J': 1.5,\n",
       "   'line_width_2_pi_Hz': 26530000.0},\n",
       "  {'energy_Hz': 146114400000000.0,\n",
       "   'order': 'FineStructure',\n",
       "   'n': 5,\n",
       "   'L': 'D',\n",
       "   'J': 1.5,\n",
       "   'line_width_2_pi_Hz': 0.001941},\n",
       "  {'energy_Hz': 170126400000000.0,\n",
       "   'order': 'FineStructure',\n",
       "   'n': 5,\n",
       "   'L': 'D',\n",
       "   'J': 2.5,\n",
       "   'line_width_2_pi_Hz': 0.004547}]}"
      ]
     },
     "execution_count": 4,
     "metadata": {},
     "output_type": "execute_result"
    }
   ],
   "source": [
    "ion.library"
   ]
  },
  {
   "cell_type": "code",
   "execution_count": null,
   "id": "0f31e3f6-6e09-4c69-90cb-de265208626f",
   "metadata": {},
   "outputs": [],
   "source": []
  },
  {
   "cell_type": "code",
   "execution_count": null,
   "id": "030db7d1-5458-447b-8310-2ab7570f7bd2",
   "metadata": {},
   "outputs": [],
   "source": []
  },
  {
   "cell_type": "code",
   "execution_count": null,
   "id": "8888805c-39f2-4dbb-ba71-97ef515c7ace",
   "metadata": {},
   "outputs": [],
   "source": []
  },
  {
   "cell_type": "code",
   "execution_count": 4,
   "id": "c551e178-aeb0-4864-a23b-69fcaf2899d6",
   "metadata": {},
   "outputs": [
    {
     "ename": "TypeError",
     "evalue": "can only concatenate str (not \"int\") to str",
     "output_type": "error",
     "traceback": [
      "\u001b[31m---------------------------------------------------------------------------\u001b[39m",
      "\u001b[31mTypeError\u001b[39m                                 Traceback (most recent call last)",
      "\u001b[36mCell\u001b[39m\u001b[36m \u001b[39m\u001b[32mIn[4]\u001b[39m\u001b[32m, line 1\u001b[39m\n\u001b[32m----> \u001b[39m\u001b[32m1\u001b[39m ion = \u001b[43mIon\u001b[49m\u001b[43m(\u001b[49m\u001b[33;43m\"\u001b[39;49m\u001b[33;43mBa\u001b[39;49m\u001b[33;43m\"\u001b[39;49m\u001b[43m,\u001b[49m\u001b[43m \u001b[49m\u001b[32;43m138\u001b[39;49m\u001b[43m)\u001b[49m\n\u001b[32m      2\u001b[39m \u001b[38;5;28;01mfor\u001b[39;00m energy_level \u001b[38;5;129;01min\u001b[39;00m ion.energy_levels:\n\u001b[32m      3\u001b[39m     \u001b[38;5;28mprint\u001b[39m(energy_level)\n",
      "\u001b[36mFile \u001b[39m\u001b[32mc:\\users\\gk141\\onedrive - duke university\\documents\\libraires\\ion-toolkit\\ion_toolkit\\ion.py:14\u001b[39m, in \u001b[36mIon.__init__\u001b[39m\u001b[34m(self, species, mass_number)\u001b[39m\n\u001b[32m     12\u001b[39m \u001b[38;5;28mself\u001b[39m.library = json.load(\u001b[38;5;28mopen\u001b[39m(\u001b[38;5;28mself\u001b[39m.library_name))\n\u001b[32m     13\u001b[39m \u001b[38;5;28mself\u001b[39m.energy_levels: List[EnergyLevel] = []\n\u001b[32m---> \u001b[39m\u001b[32m14\u001b[39m \u001b[38;5;28;43mself\u001b[39;49m\u001b[43m.\u001b[49m\u001b[43m_load_energy_levels\u001b[49m\u001b[43m(\u001b[49m\u001b[43m)\u001b[49m\n",
      "\u001b[36mFile \u001b[39m\u001b[32m<string>:5\u001b[39m, in \u001b[36m_load_energy_levels\u001b[39m\u001b[34m(self)\u001b[39m\n",
      "\u001b[36mFile \u001b[39m\u001b[32mc:\\users\\gk141\\onedrive - duke university\\documents\\libraires\\ion-toolkit\\ion_toolkit\\energy_level.py:41\u001b[39m, in \u001b[36mFineStructure.__init__\u001b[39m\u001b[34m(self, energy, n, I, L, J)\u001b[39m\n\u001b[32m     39\u001b[39m \u001b[38;5;28msuper\u001b[39m().\u001b[34m__init__\u001b[39m(energy, n, I, L, J)\n\u001b[32m     40\u001b[39m \u001b[38;5;28mself\u001b[39m.n_zeeman_levels = \u001b[32m2\u001b[39m*J + \u001b[32m1\u001b[39m\n\u001b[32m---> \u001b[39m\u001b[32m41\u001b[39m \u001b[38;5;28mself\u001b[39m.lande_g_factor = \u001b[32m1\u001b[39m + (J*(J+\u001b[32m1\u001b[39m) - L*(\u001b[43mL\u001b[49m\u001b[43m+\u001b[49m\u001b[32;43m1\u001b[39;49m) + S*(S+\u001b[32m1\u001b[39m))/(\u001b[32m2\u001b[39m*J*(J+\u001b[32m1\u001b[39m)) \n\u001b[32m     42\u001b[39m \u001b[38;5;28mself\u001b[39m.zeeman_levels = [FineStructureZeemanLevel(\u001b[38;5;28mself\u001b[39m.energy, \u001b[38;5;28mself\u001b[39m.n, \u001b[38;5;28mself\u001b[39m.I, \u001b[38;5;28mself\u001b[39m.L, \u001b[38;5;28mself\u001b[39m.J, m_J) \u001b[38;5;28;01mfor\u001b[39;00m m_J \u001b[38;5;129;01min\u001b[39;00m \u001b[38;5;28mrange\u001b[39m(-J, J+\u001b[32m1\u001b[39m)]\n",
      "\u001b[31mTypeError\u001b[39m: can only concatenate str (not \"int\") to str"
     ]
    }
   ],
   "source": [
    "for energy_level in ion.energy_levels:\n",
    "    print(energy_level)\n",
    "    for zeeman_level in energy_level.zeeman_levels:\n",
    "        print(zeeman_level)\n"
   ]
  },
  {
   "cell_type": "code",
   "execution_count": null,
   "id": "50532040-446f-46d2-9820-0d265397c291",
   "metadata": {},
   "outputs": [],
   "source": []
  }
 ],
 "metadata": {
  "kernelspec": {
   "display_name": "cavity-simulation",
   "language": "python",
   "name": "cavity-simulation"
  },
  "language_info": {
   "codemirror_mode": {
    "name": "ipython",
    "version": 3
   },
   "file_extension": ".py",
   "mimetype": "text/x-python",
   "name": "python",
   "nbconvert_exporter": "python",
   "pygments_lexer": "ipython3",
   "version": "3.13.2"
  }
 },
 "nbformat": 4,
 "nbformat_minor": 5
}
