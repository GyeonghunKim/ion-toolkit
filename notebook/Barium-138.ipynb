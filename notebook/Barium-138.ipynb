{
 "cells": [
  {
   "cell_type": "code",
   "execution_count": 1,
   "id": "5bae4feb-395f-483a-b285-0be6d2825bf5",
   "metadata": {},
   "outputs": [],
   "source": [
    "%load_ext autoreload\n",
    "%autoreload 2"
   ]
  },
  {
   "cell_type": "code",
   "execution_count": 2,
   "id": "2a54874b-6d66-412e-bacc-7ba7a5358528",
   "metadata": {},
   "outputs": [],
   "source": [
    "from ion_toolkit import Ion"
   ]
  },
  {
   "cell_type": "code",
   "execution_count": 11,
   "id": "6bfff614-0203-4628-a68c-16c9c8a9c168",
   "metadata": {},
   "outputs": [],
   "source": [
    "ion = Ion(\"Ba\", 138)"
   ]
  },
  {
   "cell_type": "code",
   "execution_count": 15,
   "id": "c551e178-aeb0-4864-a23b-69fcaf2899d6",
   "metadata": {},
   "outputs": [
    {
     "name": "stdout",
     "output_type": "stream",
     "text": [
      "FineStructure(energy=0.0 THz, n=6, I=0, L=0, J=0.5)\n",
      "FineStructureZeemanLevel(energy=0.0 THz, n=6, I=0, L=0, J=0.5, m_J=-0.5)\n",
      "FineStructureZeemanLevel(energy=0.0 THz, n=6, I=0, L=0, J=0.5, m_J=0.5)\n",
      "FineStructure(energy=607.4263 THz, n=6, I=0, L=1, J=0.5)\n",
      "FineStructureZeemanLevel(energy=607.4263 THz, n=6, I=0, L=1, J=0.5, m_J=-0.5)\n",
      "FineStructureZeemanLevel(energy=607.4263 THz, n=6, I=0, L=1, J=0.5, m_J=0.5)\n",
      "FineStructure(energy=658.1165 THz, n=6, I=0, L=1, J=1.5)\n",
      "FineStructureZeemanLevel(energy=658.1165 THz, n=6, I=0, L=1, J=1.5, m_J=-1.5)\n",
      "FineStructureZeemanLevel(energy=658.1165 THz, n=6, I=0, L=1, J=1.5, m_J=-0.5)\n",
      "FineStructureZeemanLevel(energy=658.1165 THz, n=6, I=0, L=1, J=1.5, m_J=0.5)\n",
      "FineStructureZeemanLevel(energy=658.1165 THz, n=6, I=0, L=1, J=1.5, m_J=1.5)\n",
      "FineStructure(energy=146.1144 THz, n=5, I=0, L=2, J=1.5)\n",
      "FineStructureZeemanLevel(energy=146.1144 THz, n=5, I=0, L=2, J=1.5, m_J=-1.5)\n",
      "FineStructureZeemanLevel(energy=146.1144 THz, n=5, I=0, L=2, J=1.5, m_J=-0.5)\n",
      "FineStructureZeemanLevel(energy=146.1144 THz, n=5, I=0, L=2, J=1.5, m_J=0.5)\n",
      "FineStructureZeemanLevel(energy=146.1144 THz, n=5, I=0, L=2, J=1.5, m_J=1.5)\n",
      "FineStructure(energy=170.1264 THz, n=5, I=0, L=2, J=2.5)\n",
      "FineStructureZeemanLevel(energy=170.1264 THz, n=5, I=0, L=2, J=2.5, m_J=-2.5)\n",
      "FineStructureZeemanLevel(energy=170.1264 THz, n=5, I=0, L=2, J=2.5, m_J=-1.5)\n",
      "FineStructureZeemanLevel(energy=170.1264 THz, n=5, I=0, L=2, J=2.5, m_J=-0.5)\n",
      "FineStructureZeemanLevel(energy=170.1264 THz, n=5, I=0, L=2, J=2.5, m_J=0.5)\n",
      "FineStructureZeemanLevel(energy=170.1264 THz, n=5, I=0, L=2, J=2.5, m_J=1.5)\n",
      "FineStructureZeemanLevel(energy=170.1264 THz, n=5, I=0, L=2, J=2.5, m_J=2.5)\n"
     ]
    }
   ],
   "source": [
    "for energy_level in ion.energy_levels:\n",
    "    print(energy_level)\n",
    "    for zeeman_level in energy_level.zeeman_levels:\n",
    "        print(zeeman_level)\n"
   ]
  },
  {
   "cell_type": "code",
   "execution_count": null,
   "id": "50532040-446f-46d2-9820-0d265397c291",
   "metadata": {},
   "outputs": [],
   "source": []
  }
 ],
 "metadata": {
  "kernelspec": {
   "display_name": "cavity-simulation",
   "language": "python",
   "name": "cavity-simulation"
  },
  "language_info": {
   "codemirror_mode": {
    "name": "ipython",
    "version": 3
   },
   "file_extension": ".py",
   "mimetype": "text/x-python",
   "name": "python",
   "nbconvert_exporter": "python",
   "pygments_lexer": "ipython3",
   "version": "3.13.2"
  }
 },
 "nbformat": 4,
 "nbformat_minor": 5
}
