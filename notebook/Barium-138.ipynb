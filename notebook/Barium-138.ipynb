{
 "cells": [
  {
   "cell_type": "code",
   "execution_count": 1,
   "id": "5bae4feb-395f-483a-b285-0be6d2825bf5",
   "metadata": {},
   "outputs": [],
   "source": [
    "%load_ext autoreload\n",
    "%autoreload 2"
   ]
  },
  {
   "cell_type": "code",
   "execution_count": 4,
   "id": "2a54874b-6d66-412e-bacc-7ba7a5358528",
   "metadata": {},
   "outputs": [],
   "source": [
    "import numpy as np\n",
    "from ion_toolkit import Ion\n",
    "from ion_toolkit.laser import Laser, Polarization\n",
    "from ion_toolkit.units import Units\n",
    "from ion_toolkit.experiment import Experiment"
   ]
  },
  {
   "cell_type": "code",
   "execution_count": 16,
   "id": "6bfff614-0203-4628-a68c-16c9c8a9c168",
   "metadata": {},
   "outputs": [],
   "source": [
    "ion = Ion(\"Ba\", 138)"
   ]
  },
  {
   "cell_type": "code",
   "execution_count": 17,
   "id": "8f066b4e-ca01-431e-b0ba-efc3f288f900",
   "metadata": {},
   "outputs": [
    {
     "data": {
      "text/plain": [
       "defaultdict(dict,\n",
       "            {'6P1.5': {'6S0.5': 0.742, '5D1.5': 0.028, '5D2.5': 0.23},\n",
       "             '6P0.5': {'6P0.5': 0.732, '5D1.5': 0.268},\n",
       "             '5D2.5': {'6S0.5': 0.846},\n",
       "             '6S0.5': {},\n",
       "             '5D1.5': {}})"
      ]
     },
     "execution_count": 17,
     "metadata": {},
     "output_type": "execute_result"
    }
   ],
   "source": [
    "ion.branching_ratios"
   ]
  },
  {
   "cell_type": "code",
   "execution_count": 18,
   "id": "9b7a1397-37a1-4902-8f68-381dad10f8a9",
   "metadata": {},
   "outputs": [
    {
     "data": {
      "text/plain": [
       "[FineStructure(energy=0.0 THz, n=6, I=0, L=0, J=0.5),\n",
       " FineStructure(energy=607.4263 THz, n=6, I=0, L=1, J=0.5),\n",
       " FineStructure(energy=658.1165 THz, n=6, I=0, L=1, J=1.5),\n",
       " FineStructure(energy=146.1144 THz, n=5, I=0, L=2, J=1.5),\n",
       " FineStructure(energy=170.1264 THz, n=5, I=0, L=2, J=2.5)]"
      ]
     },
     "execution_count": 18,
     "metadata": {},
     "output_type": "execute_result"
    }
   ],
   "source": [
    "ion.energy_levels"
   ]
  },
  {
   "cell_type": "code",
   "execution_count": 14,
   "id": "a2607d06-925a-430e-9b39-dc375377a59c",
   "metadata": {},
   "outputs": [],
   "source": [
    "ion.apply_magnetic_field(5e3)"
   ]
  },
  {
   "cell_type": "code",
   "execution_count": 73,
   "id": "bdf806d4-e664-48a8-9354-602a1c8c8054",
   "metadata": {},
   "outputs": [
    {
     "data": {
      "text/plain": [
       "[FineStructure(energy=0.0 THz, n=6, I=0, L=0, J=0.5),\n",
       " FineStructure(energy=607.4263 THz, n=6, I=0, L=1, J=0.5),\n",
       " FineStructure(energy=658.1165 THz, n=6, I=0, L=1, J=1.5),\n",
       " FineStructure(energy=146.1144 THz, n=5, I=0, L=2, J=1.5),\n",
       " FineStructure(energy=170.1264 THz, n=5, I=0, L=2, J=2.5)]"
      ]
     },
     "execution_count": 73,
     "metadata": {},
     "output_type": "execute_result"
    }
   ],
   "source": [
    "ion.energy_levels"
   ]
  },
  {
   "cell_type": "code",
   "execution_count": 69,
   "id": "674787e6-99b7-4553-aaf3-cc704be37ef5",
   "metadata": {},
   "outputs": [],
   "source": [
    "laser_493 = Laser(\n",
    "    493 * Units.nm, \n",
    "    1, \n",
    "    10 * Units.kHz, \n",
    "    Polarization(np.array([1, 0, 0]), 1, 0)\n",
    ")"
   ]
  },
  {
   "cell_type": "code",
   "execution_count": 76,
   "id": "6054766f-e4ca-4b77-9cea-26134512ebf0",
   "metadata": {},
   "outputs": [],
   "source": [
    "experiment = Experiment(ion, 100 * Units.T)"
   ]
  },
  {
   "cell_type": "code",
   "execution_count": 77,
   "id": "f830e2de-4e5c-46ad-a94e-b3e81916340e",
   "metadata": {},
   "outputs": [],
   "source": [
    "experiment.add_laser(\n",
    "    laser_493, \n",
    "    [\n",
    "        (ion.energy_levels[0], ion.energy_levels[1])\n",
    "    ]\n",
    ")"
   ]
  },
  {
   "cell_type": "code",
   "execution_count": null,
   "id": "89555b9c-996b-452c-bdc6-657c580bc3c5",
   "metadata": {},
   "outputs": [],
   "source": []
  }
 ],
 "metadata": {
  "kernelspec": {
   "display_name": "cavity",
   "language": "python",
   "name": "cavity"
  },
  "language_info": {
   "codemirror_mode": {
    "name": "ipython",
    "version": 3
   },
   "file_extension": ".py",
   "mimetype": "text/x-python",
   "name": "python",
   "nbconvert_exporter": "python",
   "pygments_lexer": "ipython3",
   "version": "3.8.18"
  }
 },
 "nbformat": 4,
 "nbformat_minor": 5
}
