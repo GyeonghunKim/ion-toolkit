{
 "cells": [
  {
   "cell_type": "code",
   "execution_count": 1,
   "id": "5bae4feb-395f-483a-b285-0be6d2825bf5",
   "metadata": {},
   "outputs": [],
   "source": [
    "%load_ext autoreload\n",
    "%autoreload 2"
   ]
  },
  {
   "cell_type": "code",
   "execution_count": 4,
   "id": "2a54874b-6d66-412e-bacc-7ba7a5358528",
   "metadata": {},
   "outputs": [],
   "source": [
    "import numpy as np\n",
    "from ion_toolkit import Ion\n",
    "from ion_toolkit.laser import Laser, Polarization"
   ]
  },
  {
   "cell_type": "code",
   "execution_count": 30,
   "id": "c53a989d-8c68-458b-b362-782d1711d856",
   "metadata": {},
   "outputs": [],
   "source": [
    "polarization = Polarization(np.array([0, 0, 1]), -1/np.sqrt(2), 1j/np.sqrt(2))"
   ]
  },
  {
   "cell_type": "code",
   "execution_count": 31,
   "id": "826b9020-b50c-4ecc-9365-e2f5da155c95",
   "metadata": {},
   "outputs": [
    {
     "data": {
      "text/plain": [
       "array([-0.70710678+0.j        ,  0.        +0.70710678j,\n",
       "        0.        +0.j        ])"
      ]
     },
     "execution_count": 31,
     "metadata": {},
     "output_type": "execute_result"
    }
   ],
   "source": [
    "polarization.epsilon_in_cartesian"
   ]
  },
  {
   "cell_type": "code",
   "execution_count": 32,
   "id": "7904d696-60a0-4290-9f08-3ef6b5278f21",
   "metadata": {},
   "outputs": [
    {
     "data": {
      "text/plain": [
       "array([0.+0.j, 0.+0.j, 1.-0.j])"
      ]
     },
     "execution_count": 32,
     "metadata": {},
     "output_type": "execute_result"
    }
   ],
   "source": [
    "polarization.epsilon_in_spherical_tensor"
   ]
  },
  {
   "cell_type": "code",
   "execution_count": 41,
   "id": "6bfff614-0203-4628-a68c-16c9c8a9c168",
   "metadata": {},
   "outputs": [],
   "source": [
    "ion = Ion(\"Ba\", 138)"
   ]
  },
  {
   "cell_type": "code",
   "execution_count": 61,
   "id": "a2607d06-925a-430e-9b39-dc375377a59c",
   "metadata": {},
   "outputs": [],
   "source": [
    "ion.apply_magnetic_field(5e3)"
   ]
  },
  {
   "cell_type": "code",
   "execution_count": 57,
   "id": "3a817050-4017-41a3-97a0-1b205ba604cb",
   "metadata": {},
   "outputs": [],
   "source": [
    "level = ion.energy_levels[0].zeeman_levels[0]"
   ]
  },
  {
   "cell_type": "code",
   "execution_count": 62,
   "id": "a93507e6-cee2-412e-97ea-ba5160857d16",
   "metadata": {},
   "outputs": [
    {
     "name": "stdout",
     "output_type": "stream",
     "text": [
      "FineStructureZeemanLevel(energy=-69.98122462816337 THz, n=6, I=0, L=0, J=0.5, m_J=-0.5)\n"
     ]
    }
   ],
   "source": [
    "print(level)"
   ]
  },
  {
   "cell_type": "code",
   "execution_count": 52,
   "id": "c551e178-aeb0-4864-a23b-69fcaf2899d6",
   "metadata": {},
   "outputs": [
    {
     "name": "stdout",
     "output_type": "stream",
     "text": [
      "FineStructure(energy=0.0 THz, n=6, I=0, L=0, J=0.5)\n",
      "FineStructureZeemanLevel(energy=-27.992489851265347 THz, n=6, I=0, L=0, J=0.5, m_J=-0.5)\n",
      "FineStructureZeemanLevel(energy=27.992489851265347 THz, n=6, I=0, L=0, J=0.5, m_J=0.5)\n",
      "FineStructure(energy=607.4263 THz, n=6, I=0, L=1, J=0.5)\n",
      "FineStructureZeemanLevel(energy=598.0954700495782 THz, n=6, I=0, L=1, J=0.5, m_J=-0.5)\n",
      "FineStructureZeemanLevel(energy=616.7571299504217 THz, n=6, I=0, L=1, J=0.5, m_J=0.5)\n",
      "FineStructure(energy=658.1165 THz, n=6, I=0, L=1, J=1.5)\n",
      "FineStructureZeemanLevel(energy=602.1315202974693 THz, n=6, I=0, L=1, J=1.5, m_J=-1.5)\n",
      "FineStructureZeemanLevel(energy=639.4548400991564 THz, n=6, I=0, L=1, J=1.5, m_J=-0.5)\n",
      "FineStructureZeemanLevel(energy=676.7781599008435 THz, n=6, I=0, L=1, J=1.5, m_J=0.5)\n",
      "FineStructureZeemanLevel(energy=714.1014797025307 THz, n=6, I=0, L=1, J=1.5, m_J=1.5)\n",
      "FineStructure(energy=146.1144 THz, n=5, I=0, L=2, J=1.5)\n",
      "FineStructureZeemanLevel(energy=112.52341217848158 THz, n=5, I=0, L=2, J=1.5, m_J=-1.5)\n",
      "FineStructureZeemanLevel(energy=134.91740405949386 THz, n=5, I=0, L=2, J=1.5, m_J=-0.5)\n",
      "FineStructureZeemanLevel(energy=157.31139594050612 THz, n=5, I=0, L=2, J=1.5, m_J=0.5)\n",
      "FineStructureZeemanLevel(energy=179.70538782151843 THz, n=5, I=0, L=2, J=1.5, m_J=1.5)\n",
      "FineStructure(energy=170.1264 THz, n=5, I=0, L=2, J=2.5)\n",
      "FineStructureZeemanLevel(energy=86.14893044620393 THz, n=5, I=0, L=2, J=2.5, m_J=-2.5)\n",
      "FineStructureZeemanLevel(energy=119.73991826772236 THz, n=5, I=0, L=2, J=2.5, m_J=-1.5)\n",
      "FineStructureZeemanLevel(energy=153.33090608924078 THz, n=5, I=0, L=2, J=2.5, m_J=-0.5)\n",
      "FineStructureZeemanLevel(energy=186.9218939107592 THz, n=5, I=0, L=2, J=2.5, m_J=0.5)\n",
      "FineStructureZeemanLevel(energy=220.51288173227763 THz, n=5, I=0, L=2, J=2.5, m_J=1.5)\n",
      "FineStructureZeemanLevel(energy=254.10386955379605 THz, n=5, I=0, L=2, J=2.5, m_J=2.5)\n"
     ]
    }
   ],
   "source": [
    "for energy_level in ion.energy_levels:\n",
    "    print(energy_level)\n",
    "    for zeeman_level in energy_level.zeeman_levels:\n",
    "        print(zeeman_level)\n"
   ]
  },
  {
   "cell_type": "code",
   "execution_count": 6,
   "id": "452343ec-4a2b-4462-8f98-9211eac77327",
   "metadata": {},
   "outputs": [
    {
     "data": {
      "text/plain": [
       "2.5"
      ]
     },
     "execution_count": 6,
     "metadata": {},
     "output_type": "execute_result"
    }
   ],
   "source": [
    "zeeman_level.J"
   ]
  },
  {
   "cell_type": "code",
   "execution_count": 8,
   "id": "4fba0f12-37a2-41e7-a274-41d4dde5944f",
   "metadata": {},
   "outputs": [],
   "source": [
    "import numpy as np"
   ]
  },
  {
   "cell_type": "code",
   "execution_count": null,
   "id": "674787e6-99b7-4553-aaf3-cc704be37ef5",
   "metadata": {},
   "outputs": [],
   "source": []
  }
 ],
 "metadata": {
  "kernelspec": {
   "display_name": "cavity",
   "language": "python",
   "name": "cavity"
  },
  "language_info": {
   "codemirror_mode": {
    "name": "ipython",
    "version": 3
   },
   "file_extension": ".py",
   "mimetype": "text/x-python",
   "name": "python",
   "nbconvert_exporter": "python",
   "pygments_lexer": "ipython3",
   "version": "3.8.18"
  }
 },
 "nbformat": 4,
 "nbformat_minor": 5
}
